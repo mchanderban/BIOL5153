{
 "cells": [
  {
   "cell_type": "code",
   "execution_count": 24,
   "metadata": {},
   "outputs": [
    {
     "name": "stdout",
     "output_type": "stream",
     "text": [
      "23\n",
      "8\n",
      "8\n",
      "7\n",
      "ATGCCAGT\n",
      "ttccggaa\n",
      "GTTCTAA\n",
      "ATGCCAGTGTTCTAA\n",
      "15\n",
      "ATG\n",
      "TAA\n"
     ]
    }
   ],
   "source": [
    "gene = 'ATGCCAGTttccggaaGTTCTAA'\n",
    "\n",
    "print(len(gene))\n",
    "print(len('ATGCCAGT'))\n",
    "print(len('ttccggaa'))\n",
    "print(len('GTTCTAA'))\n",
    "\n",
    "# print first exon\n",
    "print(gene[0:8])\n",
    "\n",
    "# print intron\n",
    "print(gene[8:16])\n",
    "\n",
    "# print second exon\n",
    "print(gene[16:23])\n",
    "\n",
    "# print CDS (concatentated exons)\n",
    "print(gene[0:8] + gene[16:23])\n",
    "# gene[16:len(gene)] works for finding end\n",
    "\n",
    "# printing length to make sure the last codon would be in frame\n",
    "print(len('ATGCCAGTGTTCTAA'))\n",
    "\n",
    "# print start codon\n",
    "print(gene[0:3])\n",
    "\n",
    "# print stop codon\n",
    "print(gene[20:23])"
   ]
  },
  {
   "cell_type": "code",
   "execution_count": null,
   "metadata": {},
   "outputs": [],
   "source": []
  }
 ],
 "metadata": {
  "kernelspec": {
   "display_name": "Python 3",
   "language": "python",
   "name": "python3"
  },
  "language_info": {
   "codemirror_mode": {
    "name": "ipython",
    "version": 3
   },
   "file_extension": ".py",
   "mimetype": "text/x-python",
   "name": "python",
   "nbconvert_exporter": "python",
   "pygments_lexer": "ipython3",
   "version": "3.6.4"
  }
 },
 "nbformat": 4,
 "nbformat_minor": 2
}
